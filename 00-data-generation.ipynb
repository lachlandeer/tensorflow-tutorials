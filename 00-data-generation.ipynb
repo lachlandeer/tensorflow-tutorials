{
 "cells": [
  {
   "cell_type": "markdown",
   "metadata": {},
   "source": [
    "# Data generation\n",
    "\n",
    "First go at the data generation script. Script taken and adpated from matlab script for master thesis (IV estimation).\n",
    "\n",
    "Update as needed"
   ]
  },
  {
   "cell_type": "code",
   "execution_count": 8,
   "metadata": {
    "collapsed": false
   },
   "outputs": [],
   "source": [
    "import numpy as np\n",
    "import itertools\n",
    "import math"
   ]
  },
  {
   "cell_type": "code",
   "execution_count": 19,
   "metadata": {
    "collapsed": false
   },
   "outputs": [],
   "source": [
    "n = 100        # n observations\n",
    "m = 5          # n instruments\n",
    "rho = 0.6      # Corr(eps, U)\n",
    "theta0 = 1     # true structural coefficient \n",
    "density = 0.4  # signal density\n",
    "CP = 150       # concentration parameter"
   ]
  },
  {
   "cell_type": "code",
   "execution_count": 36,
   "metadata": {
    "collapsed": true
   },
   "outputs": [],
   "source": [
    "# Var-cov matrix of instruments\n",
    "V_z = np.zeros((m, m))\n",
    "vec_ix = list(itertools.product(range(m), range(m)))\n",
    "for i, j in vec_ix:\n",
    "    V_z[i, j] = (math.sqrt(0.3) ** 2) * (0.5 ** abs(i - j))\n",
    "\n",
    "# Error covariance ----------------------------------------\n",
    "pi = np.zeros(math.ceil(m))\n",
    "pi[:math.ceil(m * density)]  = 1.0                    # First stage coefficients\n",
    "V_U = n * np.matmul(np.matmul(pi.T, V_z), pi) / CP    # Variance of first stage error\n",
    "V_eps = 2                                             # Variance of second stage error\n",
    "V_eps_U = rho * np.sqrt(V_eps) * np.sqrt(V_U)         # Cov(eps, U) (endogeneity)\n",
    "V_err = np.array([[V_eps, V_eps_U], [V_eps_U, V_U]])  # Var(eps, U)"
   ]
  },
  {
   "cell_type": "code",
   "execution_count": 63,
   "metadata": {
    "collapsed": true
   },
   "outputs": [],
   "source": [
    "def x_fn(z, u, pi):\n",
    "    return np.matmul(z, pi) + u\n",
    "\n",
    "def y_fn(x, e, theta):\n",
    "    return x.T * theta + e"
   ]
  },
  {
   "cell_type": "code",
   "execution_count": 49,
   "metadata": {
    "collapsed": false
   },
   "outputs": [
    {
     "data": {
      "text/plain": [
       "0.8774843696213764"
      ]
     },
     "execution_count": 49,
     "metadata": {},
     "output_type": "execute_result"
    }
   ],
   "source": [
    "np.random.seed(seed=1)\n",
    "\n",
    "E = np.matmul(np.random.rand(n, 2), np.linalg.cholesky(V_err))\n",
    "e = E[:, 0]\n",
    "u = E[:, 1]\n",
    "np.mean(e)"
   ]
  },
  {
   "cell_type": "code",
   "execution_count": 64,
   "metadata": {
    "collapsed": false
   },
   "outputs": [],
   "source": [
    "np.random.seed(seed=1)\n",
    "\n",
    "E = np.matmul(np.random.rand(n, 2), np.linalg.cholesky(V_err))\n",
    "e = E[:, 0]\n",
    "u = E[:, 1]\n",
    "e = e - np.mean(e)\n",
    "u = u - np.mean(u)\n",
    "\n",
    "z = np.matmul(np.random.rand(n, m), np.linalg.cholesky(V_z))\n",
    "z = z - np.mean(z)\n",
    "\n",
    "x = x_fn(z, u, pi)\n",
    "\n",
    "y = y_fn(x, e, theta0)"
   ]
  },
  {
   "cell_type": "code",
   "execution_count": null,
   "metadata": {
    "collapsed": true
   },
   "outputs": [],
   "source": []
  }
 ],
 "metadata": {
  "kernelspec": {
   "display_name": "Python 3",
   "language": "python",
   "name": "python3"
  },
  "language_info": {
   "codemirror_mode": {
    "name": "ipython",
    "version": 3
   },
   "file_extension": ".py",
   "mimetype": "text/x-python",
   "name": "python",
   "nbconvert_exporter": "python",
   "pygments_lexer": "ipython3",
   "version": "3.6.0"
  }
 },
 "nbformat": 4,
 "nbformat_minor": 2
}
