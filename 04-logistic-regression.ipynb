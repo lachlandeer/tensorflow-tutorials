{
 "cells": [
  {
   "cell_type": "code",
   "execution_count": 1,
   "metadata": {},
   "outputs": [],
   "source": [
    "import numpy as np\n",
    "import tensorflow as tf\n",
    "import time\n",
    "\n",
    "import utils # from *this directory* -- some helper functions"
   ]
  },
  {
   "cell_type": "code",
   "execution_count": 16,
   "metadata": {
    "collapsed": true
   },
   "outputs": [],
   "source": [
    "# Define paramaters for the model\n",
    "learning_rate = 0.01\n",
    "batch_size = 128\n",
    "n_epochs = 100\n",
    "n_train = 60000\n",
    "n_test = 10000\n",
    "\n",
    "n_pixels = 28"
   ]
  },
  {
   "cell_type": "code",
   "execution_count": 3,
   "metadata": {},
   "outputs": [
    {
     "name": "stdout",
     "output_type": "stream",
     "text": [
      "Downloading http://yann.lecun.com/exdb/mnist/train-images-idx3-ubyte.gz\n",
      "Successfully downloaded data/mnist/train-images-idx3-ubyte.gz\n",
      "Downloading http://yann.lecun.com/exdb/mnist/train-labels-idx1-ubyte.gz\n",
      "Successfully downloaded data/mnist/train-labels-idx1-ubyte.gz\n",
      "Downloading http://yann.lecun.com/exdb/mnist/t10k-images-idx3-ubyte.gz\n",
      "Successfully downloaded data/mnist/t10k-images-idx3-ubyte.gz\n",
      "Downloading http://yann.lecun.com/exdb/mnist/t10k-labels-idx1-ubyte.gz\n",
      "Successfully downloaded data/mnist/t10k-labels-idx1-ubyte.gz\n"
     ]
    }
   ],
   "source": [
    "# Step 1: Read in data\n",
    "mnist_folder = 'data/mnist'\n",
    "utils.download_mnist(mnist_folder)\n",
    "train, val, test = utils.read_mnist(mnist_folder, flatten=True)"
   ]
  },
  {
   "cell_type": "code",
   "execution_count": 5,
   "metadata": {
    "collapsed": true
   },
   "outputs": [],
   "source": [
    "# Step 2: Create datasets and iterator\n",
    "# create training Dataset and batch it\n",
    "train_data = tf.data.Dataset.from_tensor_slices(train)\n",
    "train_data = train_data.shuffle(10000) # if you want to shuffle your data\n",
    "train_data = train_data.batch(batch_size)\n",
    "\n",
    "test_data = tf.data.Dataset.from_tensor_slices(test)\n",
    "test_data = test_data.batch(batch_size)\n",
    "\n",
    "iterator = tf.data.Iterator.from_structure(train_data.output_types, \n",
    "                                           train_data.output_shapes)\n",
    "img, label = iterator.get_next()\n",
    "\n",
    "train_init = iterator.make_initializer(train_data)\t# initializer for train_data\n",
    "test_init = iterator.make_initializer(test_data)\t# initializer for train_data"
   ]
  },
  {
   "cell_type": "markdown",
   "metadata": {},
   "source": [
    "Notes:\n",
    "\n",
    "    * `tf.data.Dataset.from_tensor_slices()` - create tensors from data in memory\n",
    "    * `.batch` - Combines consecutive elements of this dataset into batches\n",
    "    * `tf.data.Iterator`provides the main way to extract elements from a dataset. The operation returned by Iterator.get_next() yields the next element of a Dataset when executed, and typically acts as the interface between input pipeline code and your model.\n",
    "    * "
   ]
  },
  {
   "cell_type": "code",
   "execution_count": 8,
   "metadata": {
    "collapsed": true
   },
   "outputs": [],
   "source": [
    "# Step 3: create weights and bias\n",
    "# w is initialized to random variables with mean of 0, stddev of 0.01\n",
    "# b is initialized to 0\n",
    "# shape of w depends on the dimension of X and Y so that Y = tf.matmul(X, w)\n",
    "# shape of b depends on Y\n",
    "w = tf.get_variable(name='weights', shape=(784, 10), initializer=tf.random_normal_initializer(0, 0.01))\n",
    "b = tf.get_variable(name='bias', shape=(1, 10), initializer=tf.zeros_initializer())"
   ]
  },
  {
   "cell_type": "code",
   "execution_count": 9,
   "metadata": {},
   "outputs": [],
   "source": [
    "# Step 4: build model\n",
    "# the model that returns the logits.\n",
    "# this logits will be later passed through softmax layer\n",
    "logits = tf.matmul(img, w) + b "
   ]
  },
  {
   "cell_type": "code",
   "execution_count": 11,
   "metadata": {},
   "outputs": [],
   "source": [
    "# Step 5: define loss function\n",
    "# use cross entropy of softmax of logits as the loss function\n",
    "# note the original function without `_v2` is deprecated so we should transition\n",
    "entropy = tf.nn.softmax_cross_entropy_with_logits_v2(logits=logits, labels=label, name='entropy')\n",
    "loss = tf.reduce_mean(entropy, name='loss') # computes the mean over all the examples in the batch"
   ]
  },
  {
   "cell_type": "code",
   "execution_count": 12,
   "metadata": {
    "collapsed": true
   },
   "outputs": [],
   "source": [
    "# Step 6: define training op\n",
    "# using gradient descent with learning rate of 0.01 to minimize loss\n",
    "optimizer = tf.train.GradientDescentOptimizer(learning_rate).minimize(loss)"
   ]
  },
  {
   "cell_type": "code",
   "execution_count": 13,
   "metadata": {
    "collapsed": true
   },
   "outputs": [],
   "source": [
    "# Step 7: calculate accuracy with test set\n",
    "preds = tf.nn.softmax(logits)\n",
    "correct_preds = tf.equal(tf.argmax(preds, 1), tf.argmax(label, 1))\n",
    "accuracy = tf.reduce_sum(tf.cast(correct_preds, tf.float32))"
   ]
  },
  {
   "cell_type": "code",
   "execution_count": 17,
   "metadata": {},
   "outputs": [
    {
     "name": "stdout",
     "output_type": "stream",
     "text": [
      "Average loss epoch 0: 1.2955552476783132\n",
      "Average loss epoch 1: 0.7335595782413039\n",
      "Average loss epoch 2: 0.6005433002183603\n",
      "Average loss epoch 3: 0.5365793732016586\n",
      "Average loss epoch 4: 0.49751888735349786\n",
      "Average loss epoch 5: 0.47063960301321606\n",
      "Average loss epoch 6: 0.450879934776661\n",
      "Average loss epoch 7: 0.43526025379812994\n",
      "Average loss epoch 8: 0.4227807507958523\n",
      "Average loss epoch 9: 0.4124777170807816\n",
      "Average loss epoch 10: 0.4036482449880866\n",
      "Average loss epoch 11: 0.39603594687095905\n",
      "Average loss epoch 12: 0.38956607947515887\n",
      "Average loss epoch 13: 0.3836816811630892\n",
      "Average loss epoch 14: 0.37859724929859473\n",
      "Average loss epoch 15: 0.3738260543623636\n",
      "Average loss epoch 16: 0.36946305383083433\n",
      "Average loss epoch 17: 0.36565559991570407\n",
      "Average loss epoch 18: 0.3620877629449201\n",
      "Average loss epoch 19: 0.3589348493966945\n",
      "Average loss epoch 20: 0.35585100387417995\n",
      "Average loss epoch 21: 0.3529418185353279\n",
      "Average loss epoch 22: 0.3503537838888723\n",
      "Average loss epoch 23: 0.3478832689482112\n",
      "Average loss epoch 24: 0.34558113425277\n",
      "Average loss epoch 25: 0.34344353336234423\n",
      "Average loss epoch 26: 0.34146724391815275\n",
      "Average loss epoch 27: 0.33964039544726526\n",
      "Average loss epoch 28: 0.3377420700913252\n",
      "Average loss epoch 29: 0.3358968632165776\n",
      "Average loss epoch 30: 0.33419032710236174\n",
      "Average loss epoch 31: 0.3328305214990017\n",
      "Average loss epoch 32: 0.331412267823552\n",
      "Average loss epoch 33: 0.3297790795564651\n",
      "Average loss epoch 34: 0.3283321088829706\n",
      "Average loss epoch 35: 0.32699913694414984\n",
      "Average loss epoch 36: 0.325846563972706\n",
      "Average loss epoch 37: 0.32448584728462754\n",
      "Average loss epoch 38: 0.3233791874938233\n",
      "Average loss epoch 39: 0.3222210074233454\n",
      "Average loss epoch 40: 0.3212447499119958\n",
      "Average loss epoch 41: 0.32018453416436216\n",
      "Average loss epoch 42: 0.31907506377197975\n",
      "Average loss epoch 43: 0.3181387987594272\n",
      "Average loss epoch 44: 0.31729581161986947\n",
      "Average loss epoch 45: 0.3162299141634342\n",
      "Average loss epoch 46: 0.3154608832195748\n",
      "Average loss epoch 47: 0.31449611835008445\n",
      "Average loss epoch 48: 0.3137166482418082\n",
      "Average loss epoch 49: 0.3129348332798758\n",
      "Average loss epoch 50: 0.3120843845397927\n",
      "Average loss epoch 51: 0.31132228436858156\n",
      "Average loss epoch 52: 0.310775193156198\n",
      "Average loss epoch 53: 0.3099663682801779\n",
      "Average loss epoch 54: 0.30915769986635033\n",
      "Average loss epoch 55: 0.3085668818548668\n",
      "Average loss epoch 56: 0.3078390557752099\n",
      "Average loss epoch 57: 0.30723191253667653\n",
      "Average loss epoch 58: 0.30676772698413496\n",
      "Average loss epoch 59: 0.30591447772674785\n",
      "Average loss epoch 60: 0.3052927709249563\n",
      "Average loss epoch 61: 0.30483506269926247\n",
      "Average loss epoch 62: 0.30409879240878795\n",
      "Average loss epoch 63: 0.3037292192495146\n",
      "Average loss epoch 64: 0.3030743505199288\n",
      "Average loss epoch 65: 0.3025026279826497\n",
      "Average loss epoch 66: 0.30208643827327464\n",
      "Average loss epoch 67: 0.30148681623991147\n",
      "Average loss epoch 68: 0.30101989526734796\n",
      "Average loss epoch 69: 0.30055351080589515\n",
      "Average loss epoch 70: 0.3000490030923555\n",
      "Average loss epoch 71: 0.2994969981354336\n",
      "Average loss epoch 72: 0.29906330063592557\n",
      "Average loss epoch 73: 0.29871330126080403\n",
      "Average loss epoch 74: 0.29828156021445296\n",
      "Average loss epoch 75: 0.29766931138759434\n",
      "Average loss epoch 76: 0.29727248864811523\n",
      "Average loss epoch 77: 0.29688937095708623\n",
      "Average loss epoch 78: 0.29640175454145257\n",
      "Average loss epoch 79: 0.2960761142678039\n",
      "Average loss epoch 80: 0.2957082749106163\n",
      "Average loss epoch 81: 0.2953826504391293\n",
      "Average loss epoch 82: 0.29490351351194605\n",
      "Average loss epoch 83: 0.29459770741157754\n",
      "Average loss epoch 84: 0.2941530532268591\n",
      "Average loss epoch 85: 0.29381407076536226\n",
      "Average loss epoch 86: 0.2933712170221085\n",
      "Average loss epoch 87: 0.2932024928719498\n",
      "Average loss epoch 88: 0.2927426143441089\n",
      "Average loss epoch 89: 0.2922645092010498\n",
      "Average loss epoch 90: 0.2920715513270955\n",
      "Average loss epoch 91: 0.2917253941297531\n",
      "Average loss epoch 92: 0.29142571611459867\n",
      "Average loss epoch 93: 0.29098426408545913\n",
      "Average loss epoch 94: 0.29077465291633164\n",
      "Average loss epoch 95: 0.2904470898037733\n",
      "Average loss epoch 96: 0.2901415857811307\n",
      "Average loss epoch 97: 0.2897997945200565\n",
      "Average loss epoch 98: 0.2895495245103226\n",
      "Average loss epoch 99: 0.2891869150275408\n",
      "Total time: 81.80023527145386 seconds\n",
      "Accuracy 0.9189\n"
     ]
    }
   ],
   "source": [
    "# Run Model!\n",
    "\n",
    "with tf.Session() as sess:\n",
    "   \n",
    "    start_time = time.time()\n",
    "    sess.run(tf.global_variables_initializer())\n",
    "\n",
    "    # train the model n_epochs times\n",
    "    for i in range(n_epochs): \t\n",
    "        sess.run(train_init)\t# drawing samples from train_data\n",
    "        total_loss = 0\n",
    "        n_batches = 0\n",
    "        try:\n",
    "            while True:\n",
    "                _, l = sess.run([optimizer, loss])\n",
    "                total_loss += l\n",
    "                n_batches += 1\n",
    "        except tf.errors.OutOfRangeError:\n",
    "            pass\n",
    "        print('Average loss epoch {0}: {1}'.format(i, total_loss/n_batches))\n",
    "    print('Total time: {0} seconds'.format(time.time() - start_time))\n",
    "\n",
    "    # test the model\n",
    "    sess.run(test_init) # drawing samples from test_data\n",
    "    total_correct_preds = 0\n",
    "    try:\n",
    "        while True:\n",
    "            accuracy_batch = sess.run(accuracy)\n",
    "            total_correct_preds += accuracy_batch\n",
    "    except tf.errors.OutOfRangeError:\n",
    "        pass\n",
    "\n",
    "    print('Accuracy {0}'.format(total_correct_preds/n_test))"
   ]
  },
  {
   "cell_type": "code",
   "execution_count": null,
   "metadata": {
    "collapsed": true
   },
   "outputs": [],
   "source": []
  }
 ],
 "metadata": {
  "kernelspec": {
   "display_name": "python3-tensorflow",
   "language": "python",
   "name": "tfenv"
  },
  "language_info": {
   "codemirror_mode": {
    "name": "ipython",
    "version": 3
   },
   "file_extension": ".py",
   "mimetype": "text/x-python",
   "name": "python",
   "nbconvert_exporter": "python",
   "pygments_lexer": "ipython3",
   "version": "3.6.1"
  }
 },
 "nbformat": 4,
 "nbformat_minor": 2
}
