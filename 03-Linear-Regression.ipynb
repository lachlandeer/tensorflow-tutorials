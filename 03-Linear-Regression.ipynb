{
 "cells": [
  {
   "cell_type": "code",
   "execution_count": 2,
   "metadata": {},
   "outputs": [],
   "source": [
    "import tensorflow as tf\n",
    "import numpy\n",
    "import matplotlib.pyplot as plt\n",
    "rng = numpy.random"
   ]
  },
  {
   "cell_type": "markdown",
   "metadata": {},
   "source": [
    "Let's do simple linear regression:"
   ]
  },
  {
   "cell_type": "code",
   "execution_count": 43,
   "metadata": {
    "collapsed": true
   },
   "outputs": [],
   "source": [
    "# Parameters\n",
    "learning_rate = 0.01\n",
    "training_epochs = 5000\n",
    "display_step = 100"
   ]
  },
  {
   "cell_type": "code",
   "execution_count": 4,
   "metadata": {
    "collapsed": true
   },
   "outputs": [],
   "source": [
    "# Training Data\n",
    "train_X = numpy.asarray([3.3,4.4,5.5,6.71,6.93,4.168,9.779,6.182,7.59,2.167,\n",
    "                         7.042,10.791,5.313,7.997,5.654,9.27,3.1])\n",
    "train_Y = numpy.asarray([1.7,2.76,2.09,3.19,1.694,1.573,3.366,2.596,2.53,1.221,\n",
    "                         2.827,3.465,1.65,2.904,2.42,2.94,1.3])\n",
    "n_samples = train_X.shape[0]"
   ]
  },
  {
   "cell_type": "code",
   "execution_count": 12,
   "metadata": {},
   "outputs": [
    {
     "name": "stdout",
     "output_type": "stream",
     "text": [
      "17\n"
     ]
    }
   ],
   "source": [
    "print(n_samples)"
   ]
  },
  {
   "cell_type": "code",
   "execution_count": 5,
   "metadata": {
    "collapsed": true
   },
   "outputs": [],
   "source": [
    "# tf Graph Input\n",
    "X = tf.placeholder(\"float\")\n",
    "Y = tf.placeholder(\"float\")\n",
    "\n",
    "# Set model weights\n",
    "W = tf.Variable(rng.randn(), name=\"weight\")\n",
    "b = tf.Variable(rng.randn(), name=\"bias\")"
   ]
  },
  {
   "cell_type": "code",
   "execution_count": 7,
   "metadata": {},
   "outputs": [],
   "source": [
    "# Construct a linear model\n",
    "pred = tf.add(tf.multiply(X, W), b)"
   ]
  },
  {
   "cell_type": "code",
   "execution_count": 40,
   "metadata": {},
   "outputs": [],
   "source": [
    "# Mean squared error\n",
    "#cost = tf.reduce_sum(tf.pow(pred-Y, 2))/(2 * n_samples)\n",
    "#cost = tf.reduce_mean(tf.squared_difference(pred, Y))\n",
    "cost = tf.losses.mean_squared_error(\n",
    "                Y,\n",
    "                pred)\n",
    "# Gradient descent\n",
    "optimizer = tf.train.GradientDescentOptimizer(learning_rate).minimize(cost)"
   ]
  },
  {
   "cell_type": "code",
   "execution_count": 17,
   "metadata": {
    "collapsed": true
   },
   "outputs": [],
   "source": [
    "# Initialize the variables (i.e. assign their default value)\n",
    "init = tf.global_variables_initializer()"
   ]
  },
  {
   "cell_type": "code",
   "execution_count": 44,
   "metadata": {},
   "outputs": [
    {
     "name": "stdout",
     "output_type": "stream",
     "text": [
      "Epoch: 0100 cost= 0.345275700 W= 0.16968708 b= 0.9160553\n",
      "Epoch: 0200 cost= 0.344893515 W= 0.16916114 b= 0.92042166\n",
      "Epoch: 0300 cost= 0.344891310 W= 0.1691582 b= 0.92044604\n",
      "Epoch: 0400 cost= 0.344891310 W= 0.1691582 b= 0.92044604\n",
      "Epoch: 0500 cost= 0.344891310 W= 0.1691582 b= 0.92044604\n",
      "Epoch: 0600 cost= 0.344891310 W= 0.1691582 b= 0.92044604\n",
      "Epoch: 0700 cost= 0.344891310 W= 0.1691582 b= 0.92044604\n",
      "Epoch: 0800 cost= 0.344891310 W= 0.1691582 b= 0.92044604\n",
      "Epoch: 0900 cost= 0.344891310 W= 0.1691582 b= 0.92044604\n",
      "Epoch: 1000 cost= 0.344891310 W= 0.1691582 b= 0.92044604\n",
      "Epoch: 1100 cost= 0.344891310 W= 0.1691582 b= 0.92044604\n",
      "Epoch: 1200 cost= 0.344891310 W= 0.1691582 b= 0.92044604\n",
      "Epoch: 1300 cost= 0.344891310 W= 0.1691582 b= 0.92044604\n",
      "Epoch: 1400 cost= 0.344891310 W= 0.1691582 b= 0.92044604\n",
      "Epoch: 1500 cost= 0.344891310 W= 0.1691582 b= 0.92044604\n",
      "Epoch: 1600 cost= 0.344891310 W= 0.1691582 b= 0.92044604\n",
      "Epoch: 1700 cost= 0.344891310 W= 0.1691582 b= 0.92044604\n",
      "Epoch: 1800 cost= 0.344891310 W= 0.1691582 b= 0.92044604\n",
      "Epoch: 1900 cost= 0.344891310 W= 0.1691582 b= 0.92044604\n",
      "Epoch: 2000 cost= 0.344891310 W= 0.1691582 b= 0.92044604\n",
      "Epoch: 2100 cost= 0.344891310 W= 0.1691582 b= 0.92044604\n",
      "Epoch: 2200 cost= 0.344891310 W= 0.1691582 b= 0.92044604\n",
      "Epoch: 2300 cost= 0.344891310 W= 0.1691582 b= 0.92044604\n",
      "Epoch: 2400 cost= 0.344891310 W= 0.1691582 b= 0.92044604\n",
      "Epoch: 2500 cost= 0.344891310 W= 0.1691582 b= 0.92044604\n",
      "Epoch: 2600 cost= 0.344891310 W= 0.1691582 b= 0.92044604\n",
      "Epoch: 2700 cost= 0.344891310 W= 0.1691582 b= 0.92044604\n",
      "Epoch: 2800 cost= 0.344891310 W= 0.1691582 b= 0.92044604\n",
      "Epoch: 2900 cost= 0.344891310 W= 0.1691582 b= 0.92044604\n",
      "Epoch: 3000 cost= 0.344891310 W= 0.1691582 b= 0.92044604\n",
      "Epoch: 3100 cost= 0.344891310 W= 0.1691582 b= 0.92044604\n",
      "Epoch: 3200 cost= 0.344891310 W= 0.1691582 b= 0.92044604\n",
      "Epoch: 3300 cost= 0.344891310 W= 0.1691582 b= 0.92044604\n",
      "Epoch: 3400 cost= 0.344891310 W= 0.1691582 b= 0.92044604\n",
      "Epoch: 3500 cost= 0.344891310 W= 0.1691582 b= 0.92044604\n",
      "Epoch: 3600 cost= 0.344891310 W= 0.1691582 b= 0.92044604\n",
      "Epoch: 3700 cost= 0.344891310 W= 0.1691582 b= 0.92044604\n",
      "Epoch: 3800 cost= 0.344891310 W= 0.1691582 b= 0.92044604\n",
      "Epoch: 3900 cost= 0.344891310 W= 0.1691582 b= 0.92044604\n",
      "Epoch: 4000 cost= 0.344891310 W= 0.1691582 b= 0.92044604\n",
      "Epoch: 4100 cost= 0.344891310 W= 0.1691582 b= 0.92044604\n",
      "Epoch: 4200 cost= 0.344891310 W= 0.1691582 b= 0.92044604\n",
      "Epoch: 4300 cost= 0.344891310 W= 0.1691582 b= 0.92044604\n",
      "Epoch: 4400 cost= 0.344891310 W= 0.1691582 b= 0.92044604\n",
      "Epoch: 4500 cost= 0.344891310 W= 0.1691582 b= 0.92044604\n",
      "Epoch: 4600 cost= 0.344891310 W= 0.1691582 b= 0.92044604\n",
      "Epoch: 4700 cost= 0.344891310 W= 0.1691582 b= 0.92044604\n",
      "Epoch: 4800 cost= 0.344891310 W= 0.1691582 b= 0.92044604\n",
      "Epoch: 4900 cost= 0.344891310 W= 0.1691582 b= 0.92044604\n",
      "Epoch: 5000 cost= 0.344891310 W= 0.1691582 b= 0.92044604\n",
      "Optimization Finished!\n",
      "Training cost= 0.3448913 W= 0.1691582 b= 0.92044604 \n",
      "\n"
     ]
    },
    {
     "data": {
      "image/png": "[encoded data removed]",
      "text/plain": [
       "<Figure size 432x288 with 1 Axes>"
      ]
     },
     "metadata": {},
     "output_type": "display_data"
    }
   ],
   "source": [
    "# Start training\n",
    "with tf.Session() as sess:\n",
    "    sess.run(init)\n",
    "\n",
    "    # Fit all training data\n",
    "    for epoch in range(training_epochs):\n",
    "        for (x, y) in zip(train_X, train_Y):\n",
    "            sess.run(optimizer, feed_dict={X: x, Y: y})\n",
    "\n",
    "        #Display logs per epoch step\n",
    "        if (epoch+1) % display_step == 0:\n",
    "            c = sess.run(cost, feed_dict={X: train_X, Y:train_Y})\n",
    "            print(\"Epoch:\", '%04d' % (epoch+1), \"cost=\", \"{:.9f}\".format(c), \\\n",
    "                \"W=\", sess.run(W), \"b=\", sess.run(b))\n",
    "\n",
    "    print(\"Optimization Finished!\")\n",
    "    training_cost = sess.run(cost, feed_dict={X: train_X, Y: train_Y})\n",
    "    print(\"Training cost=\", training_cost, \"W=\", sess.run(W), \"b=\", sess.run(b), '\\n')\n",
    "\n",
    "    #Graphic display\n",
    "    plt.plot(train_X, train_Y, 'ro', label='Original data')\n",
    "    plt.plot(train_X, sess.run(W) * train_X + sess.run(b), label='Fitted line')\n",
    "    plt.legend()\n",
    "    plt.show()"
   ]
  },
  {
   "cell_type": "markdown",
   "metadata": {},
   "source": [
    "# How does this compare to the closed form ols estimator?\n"
   ]
  },
  {
   "cell_type": "code",
   "execution_count": 23,
   "metadata": {},
   "outputs": [],
   "source": [
    "from scipy import stats"
   ]
  },
  {
   "cell_type": "code",
   "execution_count": 24,
   "metadata": {
    "collapsed": true
   },
   "outputs": [],
   "source": [
    "slope, intercept, r_value, p_value, std_err = stats.linregress(train_X, train_Y)"
   ]
  },
  {
   "cell_type": "code",
   "execution_count": 25,
   "metadata": {},
   "outputs": [
    {
     "data": {
      "text/plain": [
       "0.25163494428355404"
      ]
     },
     "execution_count": 25,
     "metadata": {},
     "output_type": "execute_result"
    }
   ],
   "source": [
    "slope"
   ]
  },
  {
   "cell_type": "code",
   "execution_count": 26,
   "metadata": {},
   "outputs": [
    {
     "data": {
      "text/plain": [
       "0.7988012261753894"
      ]
     },
     "execution_count": 26,
     "metadata": {},
     "output_type": "execute_result"
    }
   ],
   "source": [
    "intercept"
   ]
  },
  {
   "cell_type": "code",
   "execution_count": null,
   "metadata": {
    "collapsed": true
   },
   "outputs": [],
   "source": []
  }
 ],
 "metadata": {
  "kernelspec": {
   "display_name": "python3-tensorflow",
   "language": "python",
   "name": "tfenv"
  },
  "language_info": {
   "codemirror_mode": {
    "name": "ipython",
    "version": 3
   },
   "file_extension": ".py",
   "mimetype": "text/x-python",
   "name": "python",
   "nbconvert_exporter": "python",
   "pygments_lexer": "ipython3",
   "version": "3.6.1"
  }
 },
 "nbformat": 4,
 "nbformat_minor": 2
}
